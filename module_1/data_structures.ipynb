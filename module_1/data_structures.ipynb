{
 "cells": [
  {
   "cell_type": "markdown",
   "id": "eeda24f0",
   "metadata": {},
   "source": [
    "# Data Structures In Python\n",
    "\n",
    "A data structure is a container that holds a collection of data and allows us to modify the data in different ways. It also provides us with extra functionality to access or store data efficiently.  \n",
    "\n",
    "The most common data structures in Python are lists, dictionaries, tuples and sets."
   ]
  },
  {
   "cell_type": "markdown",
   "id": "e83a843f",
   "metadata": {},
   "source": [
    "## [1] Lists"
   ]
  },
  {
   "cell_type": "markdown",
   "id": "01a89367",
   "metadata": {},
   "source": [
    "Lists are **ordered collection** of items. An ordered collection means that the items are stored in the data structure in the same way as they were entered. Therfore, the order of the elements is said to be **preserved**. When we print the contents of the list, the items get printed in the same order they were specified when creating the list (unless we have modified the list in some way).  \n",
    "\n",
    "A list can contain items of different data types. Therefore, the items inside a list can be integer, float, boolean, string etc. or any combinatation of these. We can also store other data structures inside a list.  \n",
    "\n",
    "A list begins in Python can be created by the square brackets **[ ]** or **list( )** commands. The syntax is  \n",
    "\n",
    "```python\n",
    "\n",
    "# An empty list\n",
    "list_a = []\n",
    "\n",
    "# Another empty list\n",
    "list_b = list()\n",
    "```\n",
    "\n",
    "While creating a list using **[ ]** is straightforward, the **list( )** approach takes in a list as input! There are many similarities between a list and a string in Python and many of the operations that can be done on a string can also be performed on a list."
   ]
  },
  {
   "cell_type": "code",
   "execution_count": null,
   "id": "93c97131",
   "metadata": {},
   "outputs": [],
   "source": [
    "# Create empty list using []\n",
    "list_a = []\n",
    "print(list_a)\n",
    "\n",
    "# Create empty list using list()\n",
    "list_b = list()\n",
    "print(list_b)\n",
    "\n",
    "# To calculate the length of a list\n",
    "print(f'len([]): {len(list_a)}')\n",
    "print(f'len([]): {len(list_b)}')"
   ]
  },
  {
   "cell_type": "code",
   "execution_count": null,
   "id": "4869d182",
   "metadata": {},
   "outputs": [],
   "source": [
    "# Create a non-empty list using []\n",
    "list_a = [10, 20, True, \"hello\", \"world\"]\n",
    "print(list_a)\n",
    "print(f'length: {len(list_a)}')\n",
    "\n",
    "print()\n",
    "\n",
    "# Create a non empty list using list()\n",
    "# list() takes only one parameter - the list that we want to create\n",
    "list_b = list([78, \"Python Programming!\", -0.0042, False])\n",
    "print(list_b)\n",
    "print(f'length: {len(list_b)}')"
   ]
  },
  {
   "cell_type": "markdown",
   "id": "77279479",
   "metadata": {},
   "source": [
    "### List Of Lists\n",
    "\n",
    "It is also possible to create a list of lists in Python. This means the items inside the list can be lists themselves. The standard format of this looks like:  \n",
    "\n",
    "```python\n",
    "[\n",
    "    [10, 20, 30, 40], \n",
    "    [0.1, 0.2, 0.3, 0.4], \n",
    "    [\"h\", \"e\", \"l\", \"l\", \"o\"]\n",
    "]\n",
    "```  \n",
    "\n",
    "When creating a list of lists in Python, the nested lists need not be of the same length. We can have a list that is of length 2, another that is of length 5 and so on. We can even have an empty list as a list item. It is also important to remember that apart from lists, we can also add elements directly inside a list of lists.  \n",
    "\n",
    "We can even nest further by adding the list of list inside another list: a list of list as an item of a list!"
   ]
  },
  {
   "cell_type": "code",
   "execution_count": null,
   "id": "420ac45d",
   "metadata": {},
   "outputs": [],
   "source": [
    "# Create a list of lists\n",
    "a = [\n",
    "    [10, 20, 30, 40], \n",
    "    [0.1, 0.2, 0.3, 0.4], \n",
    "    [\"hello\", \"world\", \"welcome\", \"to\", \"Python\"]]\n",
    "print(a)\n",
    "print()\n",
    "\n",
    "list1 = [10, 20, 30, 40, 50]\n",
    "list2 = [100, 200, 300, 400]\n",
    "list3 = [0.1, 0.2, 0.3, 0.4, 0.5, 0.6, 0.9, 1.11, 1.5]\n",
    "\n",
    "# Create a list of lists from other lists\n",
    "matrix = [list1, list2, list3]\n",
    "print(matrix)\n",
    "print()\n",
    "\n",
    "# Create a list of lists with mixed items\n",
    "mixed_list = [list1, 23, 45, \"Python Programming\", list3, \"Hello\", \"World\" , list2]\n",
    "print(mixed_list)\n",
    "print()\n",
    "\n",
    "# Neting a list of list inside another list\n",
    "third_dimension = [matrix, mixed_list, -3, -1, 0, list1]\n",
    "print(third_dimension)"
   ]
  },
  {
   "cell_type": "markdown",
   "id": "33067d58",
   "metadata": {},
   "source": [
    "### Indexing\n",
    "\n",
    "Accessing the elements of a list using the position of the elements inside them is called as indexing. Lists can be indexed much the same way as strings, both from front and end. Indexing a list that does not have any nested lists is pretty straight forward - we use the index operator **[ i ]** to access the item at the index **i** of the list. \n",
    "\n",
    "Consider the example: \n",
    "\n",
    "```python\n",
    "numbers = [10, 20, 30, 40, 50, 60]\n",
    "print(numbers[4]) # The result will be 50\n",
    "print(numbers[-1]) # The result will be 60 as lists support negative indexing\n",
    "```\n",
    "\n",
    "Indexing lists that have nested lists inside them is however a bit tricky - only using the **[ i ]** operator is not enough. This is because the single indexing operator returns the entire list at the index **i** and if we want to access the elements inside that list we need to specify another indexing operator **[ j ]**.  \n",
    "\n",
    "Consider the example:\n",
    "\n",
    "```python\n",
    "pixels = [[0.1, 0.2, 0.5, 0.7], [0.11, 0.20, 0.45, 0.0], 10, 20, 30, [0.76, 0.42, 0.01]]\n",
    "print(pixels[1]) # This will return the entire list [0.11, 0.20, 0.45, 0.0] at the index 1\n",
    "print(pixels[3]) # This will return the value 20\n",
    "print(pixels[1][2]) # This will return the item at index 2 of the list [0.11, 0.20, 0.45, 0.0]\n",
    "```  \n",
    "\n",
    "If there are more nested lists, then we need to provide an indexing operator **[k(i)]** for every level of nesting **i**"
   ]
  },
  {
   "cell_type": "code",
   "execution_count": null,
   "id": "00db5cae",
   "metadata": {},
   "outputs": [],
   "source": [
    "list_a = [0.76, 0.42, 0.01]\n",
    "list_b = [\"hello\", \"world\", \"welcome\", \"to\", \"Python\", \"Programming\"]\n",
    "\n",
    "# Indexing the first item of list\n",
    "print(f'list_a[0] is {list_a[0]}')\n",
    "\n",
    "# Indexing the last item of the list\n",
    "print(f'list_b[-1] is {list_b[-1]}')\n",
    "\n",
    "print()\n",
    "\n",
    "pixels = [[0.1, 0.2, 0.5, 0.7], [0.11, 0.20, 0.45, 0.0], 10, 20, 30, [0.76, 0.42, 0.01]]\n",
    "print(pixels[1]) \n",
    "print(pixels[3]) \n",
    "print(pixels[1][2])\n",
    "print()\n",
    "\n",
    "points = [[0.1, 0.2, 0.5, 0.7], [0.11, 0.20, 0.45, 0.0], 10, 20, 30, [0.76, [0, 2, 4, 5, 7, 8, 9], 0.056, 0.71]]\n",
    "print(f'points\\n{points}')\n",
    "print()\n",
    "\n",
    "# Return the item present at the last index\n",
    "print(f'points[-1]\\n{points[-1]}')\n",
    "print()\n",
    "\n",
    "# Return the list present at index 1 of the last item\n",
    "print(f'points[-1][1]\\n{points[-1][1]}')\n",
    "print()\n",
    "\n",
    "# Return the last item present in the innermost list\n",
    "print(f'points[-1][1][-1]\\n{points[-1][1][-1]}')"
   ]
  },
  {
   "cell_type": "markdown",
   "id": "9c228a25",
   "metadata": {},
   "source": [
    "**Note**  \n",
    "\n",
    "When there are lists present inside a main list **L** and we calculate the length of the list, this value is actually the count of the items of **L** only. It does not count the items present inside the nested list. Remember, for the main list **L** any nested list **l(i)** is considered as a single item.  "
   ]
  },
  {
   "cell_type": "code",
   "execution_count": null,
   "id": "d6090ace",
   "metadata": {},
   "outputs": [],
   "source": [
    "pixels = [[0.1, 0.2, 0.5, 0.7], [0.11, 0.20, 0.45, 0.0], 10, 20, 30, [0.76, 0.42, 0.01]]\n",
    "\n",
    "# Calculate the length of the main list\n",
    "count = len(pixels)\n",
    "print(f'main list length: {count}')\n",
    "\n",
    "# Calculate the length of the last inner most list\n",
    "count = len(pixels[-1])\n",
    "print(f'innermost list length: {count}')"
   ]
  },
  {
   "cell_type": "markdown",
   "id": "cfa2e36e",
   "metadata": {},
   "source": [
    "### Mutability Of Lists\n",
    "\n",
    "In Python, lists are mutable data structures. This means that we can modify the contents of the list at the existing memory location and the list is not assigned a new memory location. This behavior is unlike strings which are immutable and any changes to the string contents results in the string getting assigned to a new memory location."
   ]
  },
  {
   "cell_type": "code",
   "execution_count": null,
   "id": "78679901",
   "metadata": {},
   "outputs": [],
   "source": [
    "words = [\"hello\", \"world\", \"welcome\", \"to\", \"python\", \"programming\"]\n",
    "print(words)\n",
    "print(id(words))\n",
    "print()\n",
    "\n",
    "# Modify the contents of the string\n",
    "words[0] = \"Hi!\"\n",
    "words[-2] = \"JavaScript\"\n",
    "print(words)\n",
    "print(id(words)) # Memory location remains unchanged"
   ]
  },
  {
   "cell_type": "code",
   "execution_count": null,
   "id": "e532e5d1",
   "metadata": {},
   "outputs": [],
   "source": [
    "pixels = [[0.1, 0.2, 0.5, 0.7], [0.11, 0.20, 0.45, 0.0], 10, 20, 30, [0.76, 0.42, 0.01]]\n",
    "print(pixels)\n",
    "print(id(pixels))\n",
    "print()\n",
    "\n",
    "# To edit a single item in the nested listed we need to index accordingly\n",
    "pixels[0][-1] = \"XX\"\n",
    "print(pixels)\n",
    "print(id(pixels)) # Memory location remains unchanged\n",
    "print()\n",
    "\n",
    "# Incorrect indexing of nested list will replace the entire list\n",
    "pixels[-1] = \"YYYY\"\n",
    "print(pixels)\n",
    "print(id(pixels)) # Memory location remains unchanged"
   ]
  },
  {
   "cell_type": "markdown",
   "id": "f68378a7",
   "metadata": {},
   "source": [
    "### Slicing\n",
    "\n",
    "Lists can be sliced much like strings. The format for list slicing is **[start_index : end_index : step]** where **start_index** refers to the index at which the list is sliced and **end_index** refers to the point upto which the slicing is continued. The element at the index **end_index** is not considered for slicing.  \n",
    "\n",
    "The **step** refers to the value by which the current index is incremented. At the start of the slicing operation, the **start_index** is the current index.  "
   ]
  },
  {
   "cell_type": "code",
   "execution_count": null,
   "id": "ff32b37d",
   "metadata": {},
   "outputs": [],
   "source": [
    "temp = [1, 2, 3, 4, 5, 6, 7, 8, 9, 10, 11]\n",
    "print(f'temp\\n{temp}\\n')\n",
    "\n",
    "# Slice the list from the first to the fifth index\n",
    "slice1 = temp[0:5]\n",
    "print(f'temp[0:5]\\n{slice1}\\n')\n",
    "\n",
    "# Slice the list from the fourth last to the last index\n",
    "slice2 = temp[-4:-1]\n",
    "print(f'temp[-4:-1]\\n{slice2}\\n')\n",
    "\n",
    "# Slice the list from last index to fourth last index\n",
    "slice3 = temp[-1:-4:-1]\n",
    "print(f'temp[-1:-4:-1]\\n{slice3}\\n')\n",
    "\n",
    "# Print the list in reverse\n",
    "reverse = temp[::-1]\n",
    "print(f'reverse\\n{reverse}\\n')"
   ]
  },
  {
   "cell_type": "markdown",
   "id": "fd756d05",
   "metadata": {},
   "source": [
    "List slicing can also be carried out on nested lists but we need to properly index them first. For example if the list was\n",
    "\n",
    "```python\n",
    "a = [10, 20, [0.1, 0.2, 0.3, 0.4, 0.5, 0.6], 30, 40]\n",
    "```\n",
    "\n",
    "and we wanted to slice upto the fourth element of the inner list starting from the first element of the inner list the syntax would be  \n",
    "\n",
    "```python\n",
    "a[2][:4]\n",
    "```\n",
    "\n",
    "It is not recommended to use list slicing for nested lists as it is a tedious process to slice an inner list along with items that are not lists.  \n",
    "\n",
    "For example if we wanted to slice the above list from the first index of main list (item **10** at index 0) to the fourth index of the inner list (item **0.5** at index 4) this would not be possible using standard list slicing operations.  If we used the syntax `a[0:3][:4]` to get the result, the value returned will not be what we were expecting.  \n",
    "\n",
    "This is because when a list is sliced, a new list is returned and the next slicing operation is carried out on that returned list. Therefore for the code `a[0:3][:4]` what happens is `a[0:3]` is executed first which returns the list  \n",
    "\n",
    "**[10, 20, [0.1, 0.2, 0.3, 0.4, 0.5, 0.6]]**  \n",
    "\n",
    "and then the next part of the slice `[:4]` is applied to the above returned list. The result remains the same in this case as above. However if the second part of the slice was `[:2]` then the final list returned would be  \n",
    "\n",
    "**[10, 20]**  \n",
    "\n",
    "**Note**  \n",
    "\n",
    "The slicing operation `a[0:3][:4]` on the list **a** can be demonstrated through the code example below:  \n",
    "\n",
    "```python\n",
    "a = [10, 20, [0.1, 0.2, 0.3, 0.4, 0.5, 0.6], 30, 40]\n",
    "\n",
    "# First the slice a[0:3] happens\n",
    "first_slice = a[0:3]\n",
    "\n",
    "# Then the slice temp[:4] happens\n",
    "second_slice = first_slice[:4]\n",
    "```"
   ]
  },
  {
   "cell_type": "code",
   "execution_count": null,
   "id": "76b562e8",
   "metadata": {},
   "outputs": [],
   "source": [
    "a = [10, 20, [0.1, 0.2, 0.3, 0.4, 0.5, 0.6], 30, 40] \n",
    "print(f'a\\n{a}\\n')\n",
    "\n",
    "# Slice the inner list upto the fourth index\n",
    "inner_slice = a[2][:4]\n",
    "print(f'a[2][:4]\\n{inner_slice}\\n')\n",
    "\n",
    "# Slice the list using a[0:3][:4]\n",
    "inner_slice = a[0:3][:4]\n",
    "print(f'a[0:3][:4]\\n{inner_slice}\\n')\n",
    "\n",
    "# Slice the list using a[0:3][:2]\n",
    "inner_slice = a[0:3][:2]\n",
    "print(f'a[0:3][:2]\\n{inner_slice}\\n')"
   ]
  },
  {
   "cell_type": "markdown",
   "id": "b9453139",
   "metadata": {},
   "source": [
    "**Note**\n",
    "\n",
    "Since the slicing operation on a list always returns a list we can keep stacking up slices like  \n",
    "\n",
    "`a[i:j][m:n][p:q][x:y]`  \n",
    "\n",
    "and so on as long as each previous slice returns a list.  \n",
    "In other words, if **a[i:j]** returns a list, then **[m:n]** can be applied to the returned list and if the result is another list, then the slice **[p:q]** can also be applied and so on."
   ]
  },
  {
   "cell_type": "code",
   "execution_count": null,
   "id": "d1090b0f",
   "metadata": {},
   "outputs": [],
   "source": [
    "a = [10, 20, [0.1, 0.2, 0.3, 0.4, 0.5, 0.6], 30, 40] \n",
    "print(f'a\\n{a}\\n')\n",
    "\n",
    "# Chain two slicing operations together\n",
    "inner_slice = a[2][:4]\n",
    "print(f'a[2][:4]\\n{inner_slice}\\n')\n",
    "\n",
    "# Chain three slicing operations together\n",
    "inner_slice = a[2][:4][:3]\n",
    "print(f'a[2][:4][:3]\\n{inner_slice}\\n')\n",
    "\n",
    "# Chain four slicing operations together\n",
    "inner_slice = a[2][:4][:3][:2]\n",
    "print(f'a[2][:4][:3][:2]\\n{inner_slice}\\n')\n",
    "\n",
    "# A really complex slicing operation\n",
    "inner_slice = a[0:3][-2:][1][-1:-4:-1]\n",
    "print(f'a[0:3][:3][-2:][1][-1:-4:-1]\\n{inner_slice}\\n')"
   ]
  },
  {
   "cell_type": "markdown",
   "id": "5525108e",
   "metadata": {},
   "source": [
    "### List Methods\n",
    "\n",
    "These are methods that are available on list (or rather, the **List Class** in Python) and are used to modify the list in place. They work by appending the dot operator **.** after the list and then using the appropriate method.  \n",
    "\n",
    "When working with methods, there is a concept of **in-place** changes and **out-of-place** changes. In case of **in-place** changes, the modifications are directly done on the original data structure (in this case lists) without creating a new copy at a new memory location. For **out-of-place** changes, the original data structure is left intact and a new one is returned with the modifications. This newly returned data structure is stored in a new memory location.  \n",
    "\n",
    "\n",
    "#### Append \n",
    "\n",
    "This method is used to add a new item **X** to the end of the list. This is an in-place method and hence the changes reflect directly on the original list. The return value is **None**. This method can only insert items at the end of the list.  \n",
    "\n",
    "The syntax is `list.append(X)`  \n",
    "                                  \n",
    "#### Insert \n",
    "\n",
    "This method is used to add a new item **X** at the index **i** of the list. If an item already exists at the index **i** then it is replaced by the newly inserted item **X**. If the index **i** does not exist then the item is added at the end of the list. The **insert** method is an in-place method and returns **None**.  \n",
    "\n",
    "The syntax is `list.insert(X, i)`  \n",
    "\n",
    "#### Extend\n",
    "\n",
    "This method is used to increase the contents of the current list by adding another list **L**. The original list is **extended** or _expanded_ to include the elements of the new list. This is an in-place method and the return value is **None**.  \n",
    "\n",
    "The syntax is `list.extend(L)`  \n",
    "\n",
    "#### Pop \n",
    "\n",
    "This method is used to remove an item from the list at index **i**. This method is an in-place method and changes are applied on the original list itself. The return value is the removed element.  \n",
    "\n",
    "The syntax is `list.pop(i)`  \n",
    "\n",
    "If nothing is specified inside the **pop(i)** then by default, the last item of the list is removed. If the user specifies the method as **pop(i)** then the item at index **i** is removed. If **i** is outside the valid range of the list index then an error occurs.  \n",
    "\n",
    "#### Remove\n",
    "\n",
    "This method is used to remove an item **X** from the list. This is an in-place method and the return value is **None**. If the element is not present in the list, an error occurs.  \n",
    "\n",
    "The syntax is `list.remove(X)`  \n",
    "\n",
    "The difference between **list.pop(i)** and **list.remove(X)** is that **pop()** takes in an index from which the item has to be removed whereas **remove()** takes in the item that has to be removed.  \n",
    "\n",
    "#### Clear\n",
    "\n",
    "This method removes every element from the array. This is an in-place method and the return value is **None**. This method does not take any arguments.  \n",
    "\n",
    "The syntax is `list.clear()`\n",
    "\n",
    "**Note** In all the cases pertaining to list methods where indexes are required, we can also use negative indexing to access the list items. "
   ]
  },
  {
   "cell_type": "code",
   "execution_count": null,
   "id": "fc54b1c1",
   "metadata": {},
   "outputs": [],
   "source": [
    "# Code Examples\n",
    "l = [10, 20, 30, 40, 50, 60, 70, 40, 50, 40, 10, 40, 50]\n",
    "d = l.count(-19)\n",
    "print(d)"
   ]
  },
  {
   "cell_type": "markdown",
   "id": "8698dbb1",
   "metadata": {},
   "source": [
    "#### Index\n",
    "\n",
    "This method returns the index of the item **X** between the indices **i** and **j**. The return value is the index of the item. This method performs a search operation on the list and therefore does not modify the list in any way.  \n",
    "If the indices **i** and **j** are not specified then the whole list is considered for searching. If the item **X** is not in the list or not between the indices **i** and **j** then an error occurs. \n",
    "\n",
    "The syntax is `list.index(X, i, j)`  \n",
    "\n",
    "A better way to search for an item in a list is using the **in** keyword. This returns **True** if the item is found in the list and **False** otherwise.  \n",
    "\n",
    "The syntax is `item in my_list`  \n",
    "\n",
    "The syntax to search for an item in the list between the indices **i** and **j** is `item in my_list[i:j]`  \n",
    "  \n",
    "#### Count\n",
    "\n",
    "This method returns the count of the item **X** in the list, i.e. it returns how many times the item **X** is present in the list. This method does not modify the list in any way. If the item is not present in the list, then the return value is **0**  \n",
    "\n",
    "The syntax is `list.count(X)`  \n",
    "\n",
    "#### Sort\n",
    "\n",
    "This method sorts the list in place. The return value is **None**. By default the sort order is increasing order (i.e. the items are arranged from smallest to largest). This method takes in two optional paramters\n",
    "- **key** which lets us implement our own sorting function\n",
    "- **reverse** which sorts the list in decreasing order (i.e. the items are arranged from largest to smallest)  \n",
    "\n",
    "The syntax is `list.sort()` or `list.sort(key=some_key, reverse=True)`  \n",
    "\n",
    "To return a sorted list without modifying the original list - use **sorted()**. This method also sorts the list but it is an out-of-place sort and therefore the original list is not modified.  \n",
    "\n",
    "#### Reverse\n",
    "\n",
    "This method reverses the order of the items in the list. This is an in-place method and the return value is **None**.  \n",
    "The syntax for the same is `list.reverse()`"
   ]
  },
  {
   "cell_type": "code",
   "execution_count": null,
   "id": "5a71a3c2",
   "metadata": {},
   "outputs": [],
   "source": [
    "# Code Examples"
   ]
  },
  {
   "cell_type": "markdown",
   "id": "8f1df26b",
   "metadata": {},
   "source": [
    "**list(range(i, j))** generates numbers between [i, j) and adds them to the list. This is a very useful function to populate a list of numbers quickly.  \n",
    "\n",
    "For example `list(range(10, 15))` will return **[10, 11, 12, 13, 14]**\n",
    "\n",
    "\n",
    "**\"H\".join(L)** joins the list items into a single string using the character **#** as a separator between list items. This method returns a new list.  \n",
    "\n",
    "For example `\"$\".join([10, 20, 30, 40, 50])` will return **10H20H30H40H50H**\n",
    "\n",
    "**Note**\n",
    "Lists can be concatenated into a new list using the **+** operator much like strings. "
   ]
  },
  {
   "cell_type": "markdown",
   "id": "863421e8",
   "metadata": {},
   "source": [
    "### List Unpacking\n",
    "\n",
    "List unpacking is a technique of extracting individual items of the list and saving them to variables. The number of variables being used for extraction should be the same as the number of items in the list.  \n",
    "\n",
    "The syntax is \n",
    "```python \n",
    "a, b, c = [10, 20, 30]\n",
    "```  \n",
    "\n",
    "Here the list items **10**, **20** and **30** are unpacked into the variables `a`, `b` and `c`.  \n",
    "\n",
    "There is another way to unpack the list and that is using the **\\*** operator. This operator takes a slice of the list that are not unpacked into individual variables. If this is the only operator present, then the entire list is sliced.\n",
    "\n",
    "Consider the example  \n",
    "\n",
    "```python\n",
    "a, b, *others = [10, 20, 30, 40, 50, 60, 70, 80]\n",
    "x, y, *others, z = [10, 20, 30, 40, 50, 60, 70, 80]\n",
    "```  \n",
    "\n",
    "In the first case the list items **10** and **20** are unpacked into the variables `a` and `b` while the rest of the list `[30, 40, 50, 60, 70, 80]` is unpacked into `others`.  \n",
    "\n",
    "In the second case, the list items **10**, **20** and **80** are unpacked into the variables `x`, `y` and `z` while the rest of the list `[30, 40, 50, 60, 70]` are unpacked into `others`. \n",
    "\n",
    "**Note** The **\\*** operator allows us to unpack a list safely without having to specify the exact number of variables as the items in the list."
   ]
  },
  {
   "cell_type": "code",
   "execution_count": null,
   "id": "a9c154b5",
   "metadata": {},
   "outputs": [],
   "source": [
    "# A standard list slice\n",
    "a, b, c = [10, 20, 30]\n",
    "print(a)\n",
    "print(b)\n",
    "print(c)"
   ]
  },
  {
   "cell_type": "code",
   "execution_count": null,
   "id": "901075f0",
   "metadata": {},
   "outputs": [],
   "source": [
    "# Number of variables lesser than the items in list to unpack leads to error\n",
    "a, b = [10, 20, 30, 40]\n",
    "print(a)\n",
    "print(b)"
   ]
  },
  {
   "cell_type": "code",
   "execution_count": null,
   "id": "baa3788d",
   "metadata": {},
   "outputs": [],
   "source": [
    "# Number of variables more than the items in list to unpack leads to error\n",
    "a, b, c, d, e, f = [10, 20, 30, 40]\n",
    "print(a)\n",
    "print(b)"
   ]
  },
  {
   "cell_type": "code",
   "execution_count": null,
   "id": "b83d66e4",
   "metadata": {},
   "outputs": [],
   "source": [
    "# Unpacking using the * operator\n",
    "a, b, *others = [10, 20, 30, 40, 50, 60, 70, 80]\n",
    "print(a)\n",
    "print(b)\n",
    "print(others)"
   ]
  },
  {
   "cell_type": "code",
   "execution_count": null,
   "id": "b4b2d512",
   "metadata": {},
   "outputs": [],
   "source": [
    "# Unpacking using the * operator\n",
    "x, y, *others, z = [10, 20, 30, 40, 50, 60, 70, 80]\n",
    "print(x)\n",
    "print(y)\n",
    "print(others)\n",
    "print(z)"
   ]
  },
  {
   "cell_type": "markdown",
   "id": "236a5b3b",
   "metadata": {},
   "source": [
    "### Important Links\n",
    "\n",
    "- [List Methods](https://realpython.com/lessons/list-methods/)\n",
    "- [Introduction To Lists](https://www.programiz.com/python-programming/list)\n",
    "- [Python Documentation - Lists](https://docs.python.org/3/tutorial/datastructures.html)\n",
    "- [Google For Education - Python Lists](https://developers.google.com/edu/python/lists)"
   ]
  },
  {
   "cell_type": "markdown",
   "id": "1313ac33",
   "metadata": {},
   "source": [
    "\n",
    "\n",
    "## [2] Dictionary\n",
    "\n",
    "A dictionary is an **ordered collection of items**. It represents data as a **key-value** pair i.e. every value stored in the dictionary has a unique key associated with it. Repeating keys are overwritten with their last value. From a data structure point of view, dictionaries in Python are used to resemble/mimic the role of hash maps. In Python, dictionary is often referred to by the name **dict** and the keyword to create one is also `dict`  \n",
    "\n",
    "A Python dictionary pair looks as follows:  \n",
    "\n",
    "```python\n",
    "my_dict = {\n",
    "    \"key1\": \"value1\",\n",
    "    23: \"value2\",\n",
    "    True: \"value3\",\n",
    "    False: \"value4\"\n",
    "}\n",
    "```  \n",
    "\n",
    "A Python dictionary consists of **key-value** pairs enclosed within a pair of **{ }** and every `key:value` pair represents a **dictionary item** (also called as key-value pair).  \n",
    "\n",
    "The key-value pair is separated by **:** and the object on the LHS of **:** represents the **key** while the object on the RHS of **:** represents the **value**. While the values can be mutable or immutable objects, repeating values etc. the keys must be unique and immutable objects."
   ]
  },
  {
   "cell_type": "code",
   "execution_count": null,
   "id": "1b484fe5",
   "metadata": {},
   "outputs": [],
   "source": [
    "# A Python dictionary\n",
    "my_dict = {\n",
    "    \"key1\": \"value1\",\n",
    "    23: \"value2\",\n",
    "    True: \"value3\",\n",
    "    False: \"value4\",\n",
    "    \"_key5\": \"value5\",\n",
    "}\n",
    "print(my_dict)\n",
    "\n",
    "# The len keyword returns the number of items in the dictionary\n",
    "print(len(my_dict))"
   ]
  },
  {
   "cell_type": "markdown",
   "id": "a89b7176",
   "metadata": {},
   "source": [
    "Accessing the values in a dict is done through their keys. We can either use the **[ ]** notation to retrieve the value corresponding to the specified key or use in-built methods.  \n",
    "\n",
    "The syntax for accessing the value using the **[ ]** notation is `dict[K]`. This will return the value **V** corresponding to the key **K**. If the key is not present in the dictionary, this results in an error.  \n",
    "\n",
    "The opposite of this approach is however not true, i.e. `dict[V]` will not return the key **K** because `dict[V]` makes Python search for the key **V** (ie. it treats the value **V** as a key). If **V** is present as a key also, then the value corresponding to it is returned.  \n",
    "\n",
    "**Note**  \n",
    "It is possible to have the value as a key in the dict as long as the nature of the value is immutable and the value has previously not been used as a key before."
   ]
  },
  {
   "cell_type": "code",
   "execution_count": null,
   "id": "f5390ee5",
   "metadata": {},
   "outputs": [],
   "source": [
    "# Get the value for the key \"key1\"\n",
    "print(my_dict[\"key1\"])\n",
    "\n",
    "# Get the value for the key \"23\"\n",
    "print(my_dict[23])\n",
    "\n",
    "# Get the value for the key \"False\"\n",
    "print(my_dict[False])"
   ]
  },
  {
   "cell_type": "code",
   "execution_count": null,
   "id": "576b0141",
   "metadata": {},
   "outputs": [],
   "source": [
    "my_dict = {\n",
    "    \"key\": \"value\",\n",
    "    \"value\": \"another_value\"\n",
    "}\n",
    "print(my_dict['key'])\n",
    "print(my_dict['value'])"
   ]
  },
  {
   "cell_type": "code",
   "execution_count": null,
   "id": "b4e25b8f",
   "metadata": {},
   "outputs": [],
   "source": [
    "# If the key is not present in the dictionary, it results in error\n",
    "print(my_dict[\"hello_world\"])"
   ]
  },
  {
   "cell_type": "markdown",
   "id": "33f34190",
   "metadata": {},
   "source": [
    "### Operating On Dicts\n",
    "\n",
    "#### Modifying The Key Value\n",
    "\n",
    "It is possible to assign new values to a dictionary key using the assignment operator **=**  \n",
    "The syntax for the same is `my_dict[K] = V_NEW` where the key **K** is updated with the new value **V_NEW**. This is an in-place method and changes reflect on the dictionary directly."
   ]
  },
  {
   "cell_type": "code",
   "execution_count": null,
   "id": "0233a21e",
   "metadata": {},
   "outputs": [],
   "source": [
    "my_dict = {\n",
    "    'key': 'value',\n",
    "    20: 'even',\n",
    "    51: 'odd',\n",
    "    False: 0,\n",
    "    True: 1\n",
    "}\n",
    "print(my_dict)\n",
    "\n",
    "# Modify the values for the keys \"key\", \"20\", \"False\"\n",
    "my_dict['key'] = 'new value'\n",
    "my_dict[20] = 'not_odd'\n",
    "my_dict[False] = -1\n",
    "\n",
    "print(my_dict)"
   ]
  },
  {
   "cell_type": "code",
   "execution_count": null,
   "id": "909f4da2",
   "metadata": {},
   "outputs": [],
   "source": [
    "# We can also assign an exsting key value to another key value\n",
    "my_dict[True] = my_dict[False]\n",
    "print(my_dict)"
   ]
  },
  {
   "cell_type": "markdown",
   "id": "41601f68",
   "metadata": {},
   "source": [
    "#### Adding A New Key\n",
    "\n",
    "We can add a new key to the dictionary by using the **[ ]** notation and the **=** operator. If the key does not exist, it gets added to the dict otherwise the value of the existing key gets updated as shown above.  \n",
    "\n",
    "The syntax for adding a new key to the dictionary is `my_dict[K_NEW] = V_NEW` i.e. a new key **K_NEW** for the value **V_NEW** is added to the dict."
   ]
  },
  {
   "cell_type": "code",
   "execution_count": null,
   "id": "2d23452b",
   "metadata": {},
   "outputs": [],
   "source": [
    "# Adding a new key to the dict\n",
    "my_dict['new_key'] = \"hello world\"\n",
    "print(my_dict)\n",
    "\n",
    "# Adding a new key to the dict\n",
    "my_dict[24] = 4000\n",
    "print(my_dict)"
   ]
  },
  {
   "cell_type": "markdown",
   "id": "d5ea4f56",
   "metadata": {},
   "source": [
    "#### Deleting An Existing Key\n",
    "\n",
    "We can delete an existing key from the dict using the **del** keyword. This keyword however only deletes the key if it is present in the dict. This operation does not return any value. If the key specified does not exist, it results in an error.  \n",
    "\n",
    "The syntax to delete a key from the dict is `del my_dict[K]` i.e. it deletes the key **K** from the dict.  \n",
    "\n",
    "**Note**\n",
    "\n",
    "This method not only works on dicts but other Python classes like lists, tuples etc. The syntax is `del my_list[i]` i.e. it will remove the item at index **i** from the list in-place. "
   ]
  },
  {
   "cell_type": "code",
   "execution_count": null,
   "id": "a6156a8a",
   "metadata": {},
   "outputs": [],
   "source": [
    "# Delete the keys \"24\" and \"new_key\" from the dict\n",
    "del my_dict[24]\n",
    "del my_dict['new_key']\n",
    "\n",
    "print(my_dict)"
   ]
  },
  {
   "cell_type": "code",
   "execution_count": null,
   "id": "dd48442d",
   "metadata": {},
   "outputs": [],
   "source": [
    "# Trying to delete a non existent key results in error\n",
    "del my_dict['some_random_key']"
   ]
  },
  {
   "cell_type": "markdown",
   "id": "224aff72",
   "metadata": {},
   "source": [
    "#### Mutability And Uniqueness\n",
    "\n",
    "In Python dicts, the values associated with the keys have no restrictions - they can be mutable, immutable, unique and non-unique. Therefore, we can have strings, numbers, lists etc as values for the keys. Similarly, the same value may be used to associate with one or more keys, i.e. more than one key may have the same value.  \n",
    "\n",
    "However, keys in dicts are bound by 2 restrictions:\n",
    "\n",
    "- The keys must be immutable objects i.e. mutable objects like lists cannot be used as a key\n",
    "- Every key must be unique, i.e. a key can have only one value in the dict at any given time  \n",
    "\n",
    "**Note**  \n",
    "If a key is repeated in Python dict, then the last value associated with that key is used for mapping and the previous values are overwritten."
   ]
  },
  {
   "cell_type": "code",
   "execution_count": null,
   "id": "a048a2ee",
   "metadata": {},
   "outputs": [],
   "source": [
    "# A dict with mutable and repeating values\n",
    "bd = {\n",
    "    \"k1\": \"value\",\n",
    "    \"k2\": \"value\",\n",
    "    200: 'value',\n",
    "    False: 0,\n",
    "    True: [10, \"Python\", 0.01, True]\n",
    "}\n",
    "print(bd)"
   ]
  },
  {
   "cell_type": "code",
   "execution_count": null,
   "id": "da8b2a0a",
   "metadata": {},
   "outputs": [],
   "source": [
    "# Cannot have a dict with mutable object as key\n",
    "bd = {\n",
    "    \"k1\": \"value\",\n",
    "    \"k2\": 2000,\n",
    "    [10, 20]: \"List\"\n",
    "}\n",
    "print(bd)"
   ]
  },
  {
   "cell_type": "code",
   "execution_count": null,
   "id": "24739801",
   "metadata": {},
   "outputs": [],
   "source": [
    "# When keys are repeated last value is mapped\n",
    "bd = {\n",
    "    \"k1\": \"value1\",\n",
    "    \"k2\": \"value2\",\n",
    "    \"k3\": \"value3\",\n",
    "    \"k1\": False,\n",
    "    \"k2\": True,\n",
    "    \"k3\": 0,\n",
    "    \"k1\": [True, False, 0]\n",
    "}\n",
    "print(bd)"
   ]
  },
  {
   "cell_type": "markdown",
   "id": "5163e103",
   "metadata": {},
   "source": [
    "#### Working With Variables\n",
    "\n",
    "We can create a dict from variables. The key and values can be assigned to variables and mapped dynamically at the time of creation. However, the rules for dict creation still remain valid - if a variable represents a mutable object then that variable cannot be used as a key for the dict.  \n",
    "\n",
    "We can also have a dict inside a dict (nested dict) just like lists. But in this case, the dict must be a value and cannot be used as a key because dicts are mutable objects too. We can however, use a dict key or a dict value as a key to another dict as long as they are immutable objects."
   ]
  },
  {
   "cell_type": "code",
   "execution_count": null,
   "id": "bad989f9",
   "metadata": {},
   "outputs": [],
   "source": [
    "# Create an empty dict\n",
    "sd = {}\n",
    "\n",
    "var_key = \"k1\"\n",
    "var_val = \"_value\"\n",
    "var_list = [10, 20, 30, 40]\n",
    "var_bool = True\n",
    "var_num = 200\n",
    "\n",
    "# Populate the dict with key value pairs using the variables\n",
    "sd[var_key] = var_val\n",
    "sd[var_val] = var_val\n",
    "sd[var_num] = var_list\n",
    "sd[var_bool] = var_key\n",
    "\n",
    "print(sd)"
   ]
  },
  {
   "cell_type": "code",
   "execution_count": null,
   "id": "a0d83742",
   "metadata": {},
   "outputs": [],
   "source": [
    "# Modifying the variable value does not update the dict\n",
    "var_key = \"_KEY\"\n",
    "var_val = \"_VAL\"\n",
    "\n",
    "print(sd)\n",
    "\n",
    "# Need to update the dict key manually to reflect updated values\n",
    "sd[var_key] = var_val\n",
    "sd[var_val] = var_val\n",
    "sd[True] = var_key\n",
    "\n",
    "print(sd)"
   ]
  },
  {
   "cell_type": "code",
   "execution_count": null,
   "id": "4e8126a7",
   "metadata": {},
   "outputs": [],
   "source": [
    "# As keys cannot be modified directly we have to remove the old keys\n",
    "del sd[\"k1\"]\n",
    "del sd[\"_value\"]\n",
    "\n",
    "print(sd)"
   ]
  },
  {
   "cell_type": "code",
   "execution_count": null,
   "id": "51fd58a0",
   "metadata": {},
   "outputs": [],
   "source": [
    "# Cannot use a variable as a key when it holds a list (mutable)\n",
    "sd[var_list] = var_bool\n",
    "print(sd)"
   ]
  },
  {
   "cell_type": "code",
   "execution_count": null,
   "id": "07acef52",
   "metadata": {},
   "outputs": [],
   "source": [
    "# We can index a list item as a key to dictionary\n",
    "sd[var_list[0]] = 111\n",
    "sd[var_list[-1]] = 999\n",
    "\n",
    "print(sd)"
   ]
  },
  {
   "cell_type": "code",
   "execution_count": null,
   "id": "f7d78108",
   "metadata": {},
   "outputs": [],
   "source": [
    "# Use a dict as a value to key in another dict\n",
    "di = {\n",
    "    \"k1\": \"v1\",\n",
    "    \"k2\": \"v2\",\n",
    "    1001: [10, 20, 30, 40],\n",
    "    False: 0\n",
    "}\n",
    "main = {\n",
    "    \"key\": di,\n",
    "    di[\"k1\"]: di[False],\n",
    "    di[False]: di[1001]\n",
    "}\n",
    "\n",
    "print(main)"
   ]
  },
  {
   "cell_type": "code",
   "execution_count": null,
   "id": "aa90fe15",
   "metadata": {},
   "outputs": [],
   "source": [
    "# Cannot use a dict value as key to another dict if value is list (mutable)\n",
    "main[di[1001]] = \"LIST\""
   ]
  },
  {
   "cell_type": "code",
   "execution_count": null,
   "id": "bc19d87f",
   "metadata": {},
   "outputs": [],
   "source": [
    "# Cannot use a dict value as key to another dict if value is dict (mutable)\n",
    "main[di] = \"DICT\""
   ]
  },
  {
   "cell_type": "markdown",
   "id": "831b5a95",
   "metadata": {},
   "source": [
    "### Dictionary Methods\n",
    "\n",
    "The dictionary class comes with in-built methods that allow us to perform operations on it. Some methods modify the list in-place while others do not.  \n",
    "\n",
    "#### Get\n",
    "\n",
    "The **get( )** method is used to fetch the value for a key in the dict. This method does not cause an error if the key does not exist. The object returned by this method is the value corresponding to the key (if exists) and **None** (if key does not exist). We can also specify the return value for a key that does not exist in the dict.\n",
    "\n",
    "The syntax is  \n",
    "\n",
    "```python\n",
    "# Fetch a key that exists\n",
    "val = dictionary.get('key1')\n",
    "\n",
    "# Fetch a key that does not exist with default value\n",
    "val = dictionary.get('xyz123', 111)\n",
    "```  \n",
    "\n",
    "#### Dict\n",
    "\n",
    "This keyword is used to create a dict using the **dict** function. While this is not a dictionary class method, this method is unique to the dictionaries as it allows us an alternative way to create a dict. In this function the key value pairs are passed as **key=value** format and each key-value pair of the dict is separated by a comma.  \n",
    "\n",
    "The syntax is  \n",
    "\n",
    "```python\n",
    "a = dict(key1=\"value1\", key2=\"value2\", key3=\"value3\")\n",
    "```  \n",
    "\n",
    "The return value of this function is the prepared dict with the specified key-value pairs. If no values are specified, it returns an empty dict.\n",
    "\n",
    "#### Keys, Values & Items\n",
    "\n",
    "These are methods unique to the dict class and are denoted by: \n",
    "\n",
    "- **keys( )**  \n",
    "    Returns all the keys in the dict as a special type - **dict_keys**. It is a special data type associated with the dict class where the keys are stored inside a list. It is not possible to directly access the individual keys using indexing. The syntax for this is `dict.keys()` \n",
    "    \n",
    "- **values( )**  \n",
    "    Returns all the values in the dict as a special type - **dict_values**. It is a special data type associated iwth dict class where all the values are stored inside a list. It is not possible to directly access the individual values using indexing. The syntax for this is `dict.values()`  \n",
    "    \n",
    "- **items( )**  \n",
    "    Returns all the key-value pairs in the dict as a collection of tuples like **(key, value)**. The return value is a special type - **dict_items** which consists of a list of **tuples** where each tuple is a key-value pair. It is not possible to directly index the list to access the key-value pair.  \n",
    "    \n",
    "It is possible to convert the special types associated with dict class into a list and then index into that list to access the individual values.  \n",
    "\n",
    "The syntax for **keys()** is `my_dict.keys()` and the syntax for **values** is `my_dict.values()`. The syntax for **items()** is `my_dict.items()`  \n",
    "\n",
    "#### In\n",
    "\n",
    "This keyword is used to search for a given key inside a dict. This is not a method from the dictionary class but can be used on dicts. This method returns **True** is the key is found and **False** otherwise. When applied directly on a dict, this keyword always searches for keys only.  \n",
    "\n",
    "The syntax is `\"some_key\" in my_dict`  \n",
    "\n",
    "This keyword can be combined with `dict.keys()` or `dict.values()` to search for a given key or value. Returns **True** if the search item is found and false otherwise.  \n",
    "\n",
    "This keyword can also be combined with `dict.items()` to search for an entire item instead of an individual key or value. The syntax is  \n",
    "\n",
    "```python\n",
    "('key', 'value') in my_dict.items()\n",
    "```  \n",
    "\n",
    "It will return **True** if the entire key-value pair `('key', 'value')` is present inside the dict.\n",
    "\n",
    "#### Pop and PopItem\n",
    "\n",
    "The **pop(\"K\")** method is used to remove the key-value pair for the specified key **K**. It returns the value **V** that was associated with the key **K** that was popped. Not specifying any key **K** inside the method leads to an error. This is an in-place method.  \n",
    "\n",
    "The syntax is `dict.pop(\"K\")`  \n",
    "\n",
    "The **popitem()** method is used to remove the **last inserted key-value pair** int the dict. The return value is the entire key-value pair as **(key, value)**. This method does not take anything inside the method and passing values leads to error. This is an in-place method.  \n",
    "\n",
    "The syntax is `dict.popitem()` \n",
    "\n",
    "#### Update\n",
    "\n",
    "The **update(K, V')** method is used to update the value **V** of a given key **K** with the value **V'**. There are two ways to update the key.  \n",
    "\n",
    "```python\n",
    "\n",
    "# This will update each key-value pair\n",
    "# Key value pairs are provided as key=value and separated by ,\n",
    "my_dict.update(key1=\"value1\", key2=\"value2\", key3=\"value3\")\n",
    "\n",
    "# This will update each key-value pair\n",
    "# Key value pairs are provided as key:value and separated by , \n",
    "# The entire list of key-value pairs to be updated are enclosed inside {}\n",
    "my_dict.update({\"key1\": \"value1\", \"key2\": \"value2\", \"key3\": \"value3\"})\n",
    "```  \n",
    "\n",
    "This is an in-place method. If the key-value pairs in either of the above formats are not present in the dict, then a new entry for that key-value pair is created and stored.\n",
    "\n",
    "#### Clear\n",
    "\n",
    "This method removes all the items from the dict and returns an empty dict. This is an in-place method and therefore changes are applied on the dict itself. The syntax is `my_dict.clear()`  "
   ]
  },
  {
   "cell_type": "code",
   "execution_count": 1,
   "id": "a39387a9",
   "metadata": {},
   "outputs": [
    {
     "name": "stdout",
     "output_type": "stream",
     "text": [
      "{'first_name': 'john', 'last_name': 'doe', 'age': 23, 'location': 'UK', 'sex': 'male'}\n",
      "{}\n"
     ]
    }
   ],
   "source": [
    "# Create a dict using the dict() fucntion\n",
    "a = dict(first_name='john', last_name='doe', age=23, location='UK', sex='male')\n",
    "print(a)\n",
    "\n",
    "# An empty dictionary\n",
    "e = dict()\n",
    "print(e)"
   ]
  },
  {
   "cell_type": "code",
   "execution_count": 2,
   "id": "b2abbb07",
   "metadata": {},
   "outputs": [
    {
     "name": "stdout",
     "output_type": "stream",
     "text": [
      "john\n",
      "DEFAULT\n"
     ]
    }
   ],
   "source": [
    "# Fetch a value using get() and default value - key exists\n",
    "v = a.get('first_name', \"DEFAULT\")\n",
    "print(v)\n",
    "\n",
    "# Fetch a value using get() and default value - key not exists\n",
    "v = a.get('some_random_key', \"DEFAULT\")\n",
    "print(v)"
   ]
  },
  {
   "cell_type": "code",
   "execution_count": 3,
   "id": "e0ec5ce3",
   "metadata": {},
   "outputs": [
    {
     "name": "stdout",
     "output_type": "stream",
     "text": [
      "dict_keys(['first_name', 'last_name', 'age', 'location', 'sex']) TYPE: <class 'dict_keys'>\n",
      "['first_name', 'last_name', 'age', 'location', 'sex'], keys_list[0] first_name\n",
      "\n",
      "dict_values(['john', 'doe', 23, 'UK', 'male']) TYPE: <class 'dict_values'>\n",
      "['john', 'doe', 23, 'UK', 'male'], values_list[-1] male\n",
      "\n",
      "dict_items([('first_name', 'john'), ('last_name', 'doe'), ('age', 23), ('location', 'UK'), ('sex', 'male')]) TYPE: <class 'dict_items'>\n",
      "[('first_name', 'john'), ('last_name', 'doe'), ('age', 23), ('location', 'UK'), ('sex', 'male')], items_list[1] ('last_name', 'doe')\n",
      "\n"
     ]
    }
   ],
   "source": [
    "# Get a list of keys using keys() and convert to list\n",
    "keys = a.keys()\n",
    "keys_list = list(keys)\n",
    "\n",
    "print(f'{keys} TYPE: {type(keys)}')\n",
    "print(f'{keys_list}, keys_list[0] {keys_list[0]}')\n",
    "print()\n",
    "\n",
    "# Get a list of values using values() and convert to list\n",
    "values = a.values()\n",
    "values_list = list(values)\n",
    "\n",
    "print(f'{values} TYPE: {type(values)}')\n",
    "print(f'{values_list}, values_list[-1] {values_list[-1]}')\n",
    "print()\n",
    "\n",
    "# Get a list of items using items() and convert to list\n",
    "items = a.items()\n",
    "items_list = list(items)\n",
    "\n",
    "print(f'{items} TYPE: {type(items)}')\n",
    "print(f'{items_list}, items_list[1] {items_list[1]}')\n",
    "print()"
   ]
  },
  {
   "cell_type": "code",
   "execution_count": 4,
   "id": "f61176ec",
   "metadata": {},
   "outputs": [
    {
     "name": "stdout",
     "output_type": "stream",
     "text": [
      "True\n",
      "False\n",
      "\n",
      "True\n",
      "False\n",
      "\n",
      "True\n",
      "False\n"
     ]
    }
   ],
   "source": [
    "# Check for the presence of keys\n",
    "print('first_name' in keys)\n",
    "print('first' in keys)\n",
    "print()\n",
    "\n",
    "# Check for the presence of values\n",
    "print('john' in values)\n",
    "print('max' in values)\n",
    "print()\n",
    "\n",
    "# Check for the presence of key-value pair\n",
    "print(('first_name', 'john') in items)\n",
    "print(('full_name', 'johndoe') in items)"
   ]
  },
  {
   "cell_type": "code",
   "execution_count": 5,
   "id": "8be71e13",
   "metadata": {},
   "outputs": [
    {
     "name": "stdout",
     "output_type": "stream",
     "text": [
      "LATEST DICT\n",
      "{'first_name': 'john', 'last_name': 'doe', 'age': 23, 'location': 'UK', 'sex': 'male', 'new_key': 'new_value'}\n",
      "\n",
      "AFTER POPITEM\n",
      "('new_key', 'new_value')\n",
      "{'first_name': 'john', 'last_name': 'doe', 'age': 23, 'location': 'UK', 'sex': 'male'}\n",
      "\n",
      "AFTER POPITEM\n",
      "('sex', 'male')\n",
      "{'first_name': 'john', 'last_name': 'doe', 'age': 23, 'location': 'UK'}\n"
     ]
    }
   ],
   "source": [
    "# Add a new key to dict\n",
    "a['new_key'] = 'new_value'\n",
    "\n",
    "print('LATEST DICT')\n",
    "print(a)\n",
    "print()\n",
    "\n",
    "# Remove the last added key\n",
    "s = a.popitem()\n",
    "\n",
    "print('AFTER POPITEM')\n",
    "print(s)\n",
    "print(a)\n",
    "print()\n",
    "\n",
    "# Remove the next key that was added last\n",
    "s = a.popitem()\n",
    "\n",
    "print('AFTER POPITEM')\n",
    "print(s)\n",
    "print(a)"
   ]
  },
  {
   "cell_type": "code",
   "execution_count": 6,
   "id": "70071730",
   "metadata": {},
   "outputs": [
    {
     "name": "stdout",
     "output_type": "stream",
     "text": [
      "doe\n",
      "{'first_name': 'john', 'age': 23, 'location': 'UK'}\n"
     ]
    }
   ],
   "source": [
    "# Remove the key 'last_name'\n",
    "s = a.pop('last_name')\n",
    "print(s)\n",
    "print(a)"
   ]
  },
  {
   "cell_type": "code",
   "execution_count": 7,
   "id": "b0eeb2df",
   "metadata": {},
   "outputs": [
    {
     "ename": "KeyError",
     "evalue": "'no_key'",
     "output_type": "error",
     "traceback": [
      "\u001b[0;31m---------------------------------------------------------------------------\u001b[0m",
      "\u001b[0;31mKeyError\u001b[0m                                  Traceback (most recent call last)",
      "Input \u001b[0;32mIn [7]\u001b[0m, in \u001b[0;36m<cell line: 2>\u001b[0;34m()\u001b[0m\n\u001b[1;32m      1\u001b[0m \u001b[38;5;66;03m# Key not present leads to error\u001b[39;00m\n\u001b[0;32m----> 2\u001b[0m s \u001b[38;5;241m=\u001b[39m \u001b[43ma\u001b[49m\u001b[38;5;241;43m.\u001b[39;49m\u001b[43mpop\u001b[49m\u001b[43m(\u001b[49m\u001b[38;5;124;43m'\u001b[39;49m\u001b[38;5;124;43mno_key\u001b[39;49m\u001b[38;5;124;43m'\u001b[39;49m\u001b[43m)\u001b[49m\n\u001b[1;32m      3\u001b[0m \u001b[38;5;28mprint\u001b[39m(s)\n\u001b[1;32m      4\u001b[0m \u001b[38;5;28mprint\u001b[39m(a)\n",
      "\u001b[0;31mKeyError\u001b[0m: 'no_key'"
     ]
    }
   ],
   "source": [
    "# Key not present leads to error\n",
    "s = a.pop('no_key')\n",
    "print(s)\n",
    "print(a)"
   ]
  },
  {
   "cell_type": "code",
   "execution_count": 8,
   "id": "8e36e888",
   "metadata": {},
   "outputs": [
    {
     "name": "stdout",
     "output_type": "stream",
     "text": [
      "CURRENT DICT\n",
      "{'first_name': 'john', 'age': 23, 'location': 'UK'}\n",
      "\n",
      "AFTER UPDATE\n",
      "{'first_name': 'Max', 'age': 23, 'location': 'UK', 'last_name': 'Meyer'}\n"
     ]
    }
   ],
   "source": [
    "print('CURRENT DICT')\n",
    "print(a)\n",
    "print()\n",
    "\n",
    "# Update the key for first_name and last_name\n",
    "a.update(first_name=\"Max\", last_name=\"Meyer\")\n",
    "\n",
    "print('AFTER UPDATE')\n",
    "print(a)"
   ]
  },
  {
   "cell_type": "code",
   "execution_count": 9,
   "id": "4698008a",
   "metadata": {},
   "outputs": [
    {
     "name": "stdout",
     "output_type": "stream",
     "text": [
      "CURRENT DICT\n",
      "{'first_name': 'Max', 'age': 23, 'location': 'UK', 'last_name': 'Meyer'}\n",
      "\n",
      "AFTER UPDATE\n",
      "{'first_name': 'JOHN', 'age': 55, 'location': 'UK', 'last_name': 'DOE', 'sex': 'Male'}\n"
     ]
    }
   ],
   "source": [
    "print('CURRENT DICT')\n",
    "print(a)\n",
    "print()\n",
    "\n",
    "# Update the key for first_name, last_name, age, sex\n",
    "a.update({\"first_name\": \"JOHN\", \"last_name\": \"DOE\", \"age\": 55, \"sex\": \"Male\"})\n",
    "\n",
    "print('AFTER UPDATE')\n",
    "print(a)"
   ]
  },
  {
   "cell_type": "code",
   "execution_count": 10,
   "id": "a765dd49",
   "metadata": {},
   "outputs": [
    {
     "name": "stdout",
     "output_type": "stream",
     "text": [
      "{}\n"
     ]
    }
   ],
   "source": [
    "# Clear the dict\n",
    "a.clear()\n",
    "print(a)"
   ]
  },
  {
   "cell_type": "markdown",
   "id": "d7af4882",
   "metadata": {},
   "source": [
    "### Important Links\n",
    "\n",
    "- [Python Dicts - Complete Tutorial](https://realpython.com/python-dicts/)\n",
    "- [Google For Education - Python Dicts](https://developers.google.com/edu/python/dict-files)"
   ]
  },
  {
   "cell_type": "markdown",
   "id": "05da4618",
   "metadata": {},
   "source": [
    "## [3] Tuples\n",
    "\n",
    "A tuple is an **immutable ordered collection** of items. This means that once a tuple has been created the contents of that tuple cannot be modified. The elements in the tuple are stored in the same order in which they were specified at the time of tuple creation. A tuple is created using the pair of parenthesis **( )** enclosing the items inside it separated by a **,**  \n",
    "\n",
    "The syntax to create a tuple is  \n",
    "\n",
    "```python\n",
    "# Tuple can hold multiple types of data \n",
    "t = (10, 20, 0, -100, 40, \"hello\", False, [19, 20, 45])\n",
    "```  \n",
    "\n",
    "Since a tuple is immutable by nature, therefore operations like sorting, reversing, deleting or adding new elements cannot be possible. This also makes tuple perform better than lists in general because the memory is fixed and the collection cannot be modified in any way.  \n",
    "\n",
    "As tuples are very similar to lists (except for the immutability) operations that do not modify the tuple are the same as that on lists. The **len( )** keyword returns the number of items in the tuple and we can perform indexing operations on the tuple using **[i]** notation. We can perform slicing operations on the tuple using \n",
    "**[start_index : end_index : step]** notation.  \n",
    "\n",
    "As tuples are immutable, they can be used as keys in a dictionary. The syntax is  \n",
    "\n",
    "```python\n",
    "# Create the tuple\n",
    "t = (10, 20, \"hello\")\n",
    "\n",
    "# Create the dict\n",
    "d = {\n",
    "    t: [10, 20, 30, 40, 50, 60]\n",
    "}\n",
    "\n",
    "# Access the values of the key in dict\n",
    "print(d[t])\n",
    "\n",
    "# Alternative access to the value of key\n",
    "print(d[(10, 20, \"hello\")])\n",
    "```"
   ]
  },
  {
   "cell_type": "code",
   "execution_count": 18,
   "id": "adacb839",
   "metadata": {},
   "outputs": [
    {
     "name": "stdout",
     "output_type": "stream",
     "text": [
      "t = (10, 20, 0, -100, 40, 'hello', False, [19, 20, 45])\n",
      "len(t) = 8\n",
      "t[0] = 10\n",
      "t[-1] = [19, 20, 45]\n",
      "\n",
      "t[3:7] is (-100, 40, 'hello', False)\n",
      "t[0:6:2] is (10, 0, 40)\n"
     ]
    }
   ],
   "source": [
    "# Create a tuple\n",
    "t = (10, 20, 0, -100, 40, \"hello\", False, [19, 20, 45])\n",
    "\n",
    "print(f\"t = {t}\")\n",
    "print(f\"len(t) = {len(t)}\")\n",
    "print(f\"t[0] = {t[0]}\")\n",
    "print(f\"t[-1] = {t[-1]}\")\n",
    "print()\n",
    "\n",
    "# Slicing operations on tuple\n",
    "slice1 = t[3:7]\n",
    "slice2 = t[0:6:2]\n",
    "\n",
    "print(f\"t[3:7] is {slice1}\")\n",
    "print(f\"t[0:6:2] is {slice2}\") "
   ]
  },
  {
   "cell_type": "markdown",
   "id": "df8823a8",
   "metadata": {},
   "source": [
    "We can also create a tuple using the **tuple( )** keyword. We can pass in a variable that contains a collection (for example another tuple or a list) or we can directly provide the values inside as a list or tuple of items. This keyword will only take one item inside the **( )** so the entire collection has to be passed.  \n",
    "\n",
    "The syntax is  \n",
    "\n",
    "```python\n",
    "# Pass a list of items\n",
    "t1 = tuple([10, 20, 30])\n",
    "\n",
    "# Pass a tuple of items\n",
    "t2 = tuple((1.5, 2.5, 3.5, 4.5))\n",
    "```  \n",
    "\n",
    "**Note**  \n",
    "We can also leave the **( )** empty which results in an empty tuple. But this serves no purpose as tuple is immutable and therefore cannot be updated or modified!"
   ]
  },
  {
   "cell_type": "code",
   "execution_count": 35,
   "id": "fa76932c",
   "metadata": {},
   "outputs": [
    {
     "name": "stdout",
     "output_type": "stream",
     "text": [
      "(10, 20, 30)\n",
      "(1.5, 2.5, 3.5, 4.5)\n"
     ]
    }
   ],
   "source": [
    "# Pass a list of items\n",
    "t1 = tuple([10, 20, 30])\n",
    "\n",
    "# Pass a tuple of items\n",
    "t2 = tuple((1.5, 2.5, 3.5, 4.5))\n",
    "\n",
    "print(t1)\n",
    "print(t2)"
   ]
  },
  {
   "cell_type": "code",
   "execution_count": 37,
   "id": "a1144ada",
   "metadata": {},
   "outputs": [
    {
     "name": "stdout",
     "output_type": "stream",
     "text": [
      "et () len(et) 0\n"
     ]
    },
    {
     "ename": "TypeError",
     "evalue": "'tuple' object does not support item assignment",
     "output_type": "error",
     "traceback": [
      "\u001b[0;31m---------------------------------------------------------------------------\u001b[0m",
      "\u001b[0;31mTypeError\u001b[0m                                 Traceback (most recent call last)",
      "Input \u001b[0;32mIn [37]\u001b[0m, in \u001b[0;36m<cell line: 5>\u001b[0;34m()\u001b[0m\n\u001b[1;32m      2\u001b[0m et \u001b[38;5;241m=\u001b[39m \u001b[38;5;28mtuple\u001b[39m()\n\u001b[1;32m      3\u001b[0m \u001b[38;5;28mprint\u001b[39m(\u001b[38;5;124mf\u001b[39m\u001b[38;5;124m\"\u001b[39m\u001b[38;5;124met \u001b[39m\u001b[38;5;132;01m{\u001b[39;00met\u001b[38;5;132;01m}\u001b[39;00m\u001b[38;5;124m len(et) \u001b[39m\u001b[38;5;132;01m{\u001b[39;00m\u001b[38;5;28mlen\u001b[39m(et)\u001b[38;5;132;01m}\u001b[39;00m\u001b[38;5;124m\"\u001b[39m)\n\u001b[0;32m----> 5\u001b[0m et[\u001b[38;5;241m0\u001b[39m] \u001b[38;5;241m=\u001b[39m \u001b[38;5;241m10\u001b[39m\n",
      "\u001b[0;31mTypeError\u001b[0m: 'tuple' object does not support item assignment"
     ]
    }
   ],
   "source": [
    "# Empty tuple\n",
    "et = tuple()\n",
    "print(f\"et {et} len(et) {len(et)}\")\n",
    "\n",
    "et[0] = 10"
   ]
  },
  {
   "cell_type": "markdown",
   "id": "8a43398a",
   "metadata": {},
   "source": [
    "### Tuple Methods\n",
    "\n",
    "As tuples are immutable objects, there are only two methods available on the tuple class **count( )** and **index( )**  \n",
    "\n",
    "#### Count\n",
    "\n",
    "The **count(V)** method returns the number of times the value **V** occurs in the tuple. This method takes exactly one item inside the method - the value **V** that we want to count. If the item is present in the tuple, the count is returned as an integer. If the item is not present, the value returned is **0**  \n",
    "\n",
    "The syntax is `tuple.count(10)` which will return the frequency (or count) of the value **10** in the tuple. If no value is specified, it leads to an error.\n",
    "\n",
    "#### Index\n",
    "\n",
    "The **index(V)** method returns the index of the item **V** in the tuple. Tuples are also **zero-indexed** which means the starting index of the tuple is **0** (i.e. the first element is at index 0 and so on). If **V** is present in the tuple, it returns the index as an integer. If **V** is not present, then it leads to an error. If no **V** is specified, it leads to an error.  \n",
    "\n",
    "The syntax is `tuple.index(40)` which will return the index of the **first occurrence** of the value **40** in the list. "
   ]
  },
  {
   "cell_type": "code",
   "execution_count": 30,
   "id": "27249416",
   "metadata": {},
   "outputs": [
    {
     "name": "stdout",
     "output_type": "stream",
     "text": [
      "t = (10, 20, 10, 10, 10, 20, 30, 10, 20, 40, 60)\n",
      "\n",
      "t.count(10) = 5\n",
      "t.count(30) = 1\n",
      "t.count(100) = 0\n",
      "\n",
      "t.index(30) = 6\n",
      "t.index(20) = 1\n"
     ]
    }
   ],
   "source": [
    "t = (10, 20, 10, 10, 10, 20, 30, 10, 20, 40, 60)\n",
    "\n",
    "print(f\"t = {t}\\n\")\n",
    "print(f\"t.count(10) = {t.count(10)}\")\n",
    "print(f\"t.count(30) = {t.count(30)}\")\n",
    "print(f\"t.count(100) = {t.count(100)}\\n\")\n",
    "\n",
    "print(f\"t.index(30) = {t.index(30)}\")\n",
    "print(f\"t.index(20) = {t.index(20)}\")"
   ]
  },
  {
   "cell_type": "markdown",
   "id": "41c07c01",
   "metadata": {},
   "source": [
    "### Important Links\n",
    "\n",
    "- [Introduction To Tuples](https://www.programiz.com/python-programming/tuple)\n",
    "- [Lists And Tuples](https://realpython.com/python-lists-tuples/)"
   ]
  },
  {
   "cell_type": "markdown",
   "id": "228e91fb",
   "metadata": {},
   "source": [
    "## [4] Sets\n",
    "\n",
    "A set is an **unordered collection of unique** items. This means that in a set:\n",
    "\n",
    "- The order in which the items are inserted is not preserved (**unordered**)\n",
    "- There cannot be any repeating values in the collection (**unique**)\n",
    "\n",
    "The notation to create a set is by enclosing the items within a pair of curly braces **{ }**. However it is important to remember, that while this is the similar syntax to create a dict, the difference is in set creation we do not provide key value pairs. We only provide a collection of items separated by a **,**  \n",
    "\n",
    "The syntax is \n",
    "\n",
    "```python\n",
    "s = {12, 10, \"hello\"}\n",
    "```  \n",
    "\n",
    "We can also create a set by using the keyword **set( )** and passing in the collection of items. The syntax is  \n",
    "\n",
    "```python\n",
    "# Create a set from a list\n",
    "l = [10, 20, 30, 40]\n",
    "s = set(l)\n",
    "\n",
    "# Create a set from a tuple\n",
    "t = (10, 20, 50, 100)\n",
    "s = set(t)\n",
    "```  \n",
    "\n",
    "Since sets are unordered collection of items it is not possible to access the elements individually by indexing. Consider the example  \n",
    "\n",
    "```python\n",
    "s = {10, 20, 30, 40, 50, 60}\n",
    "\n",
    "# This will work\n",
    "print(s)\n",
    "\n",
    "# This will not work\n",
    "# Indexing is not possible in unordered collections\n",
    "print(s[0])\n",
    "print(s[-1])\n",
    "```  \n",
    "\n",
    "Since sets are **mutable** objects, we can modify them by adding items, removing items etc. However, we cannot update existing items to new value as it is not possible to individually access the element.  \n",
    "\n",
    "Consider the set `s = {10, 20, 30, 40, 5, 60}` we cannot modify the value **5** to **50** directly by indexing. Consider the example  \n",
    "\n",
    "```python\n",
    "# A list of values - modify the value at index 4 to 50\n",
    "l = [10, 20, 30, 40, 5, 60]\n",
    "l[4] = 50 # No error - lists are mutable\n",
    "\n",
    "# A set of values - modify the value at index 4 to 50\n",
    "s = {10, 20, 30, 40, 5, 60}\n",
    "s[4] = 50 # Error - sets are mutable but indexing is not possible\n",
    "```  \n",
    "\n",
    "Since sets do not allow duplicate values, when we create a set with duplicates, only the first occurrence of the value is considered and other copies are ignored. Consider the example  \n",
    "\n",
    "```python\n",
    "s = {10, 20, 30, 40, 10, 100, 20, 70, 30}\n",
    "print(s) # Repeating values of 10, 20, 30 are ignored\n",
    "```  \n",
    "\n",
    "The **len( )** keyword is used to calculate the length of the set - the number of items inside the set."
   ]
  },
  {
   "cell_type": "code",
   "execution_count": 65,
   "id": "0dc0c189",
   "metadata": {},
   "outputs": [
    {
     "name": "stdout",
     "output_type": "stream",
     "text": [
      "{0.1, False, 'Python Programming', 'hello', -89, 12, -109, 'a', 500}\n",
      "9\n",
      "[0.1, False, 'Python Programming', 'hello', -89, 12, -109, 'a', 500]\n",
      "9\n"
     ]
    }
   ],
   "source": [
    "# A simple set - notice the lack of order\n",
    "s = {12, -109, \"hello\", 0.1, False, \"a\", -89, 500, \"Python Programming\", 12, 0.1, False, -89}\n",
    "print(s)\n",
    "print(len(s))\n",
    "\n",
    "# Converting the set to list - the order is the order of the original set\n",
    "# When converting a set to list - first the set operations are applied, then converted to list\n",
    "l = list({12, -109, \"hello\", 0.1, False, \"a\", -89, 500, \"Python Programming\", 12, 0.1, False, -89})\n",
    "print(l)\n",
    "print(len(l))"
   ]
  },
  {
   "cell_type": "code",
   "execution_count": 60,
   "id": "757a5e36",
   "metadata": {},
   "outputs": [
    {
     "name": "stdout",
     "output_type": "stream",
     "text": [
      "{40, 10, 20, 30}\n",
      "{100, 10, 20, 50}\n"
     ]
    }
   ],
   "source": [
    "# Create a set from a list\n",
    "l = [10, 20, 30, 40]\n",
    "s = set(l)\n",
    "print(s)\n",
    "\n",
    "# Create a set from a tuple\n",
    "t = (10, 20, 50, 100)\n",
    "s = set(t)\n",
    "print(s)"
   ]
  },
  {
   "cell_type": "code",
   "execution_count": 62,
   "id": "a90959b5",
   "metadata": {},
   "outputs": [
    {
     "name": "stdout",
     "output_type": "stream",
     "text": [
      "[10, 20, 30, 40, 5, 60]\n",
      "[10, 20, 30, 40, 50, 60]\n",
      "\n",
      "{5, 40, 10, 20, 60, 30}\n"
     ]
    },
    {
     "ename": "TypeError",
     "evalue": "'set' object does not support item assignment",
     "output_type": "error",
     "traceback": [
      "\u001b[0;31m---------------------------------------------------------------------------\u001b[0m",
      "\u001b[0;31mTypeError\u001b[0m                                 Traceback (most recent call last)",
      "Input \u001b[0;32mIn [62]\u001b[0m, in \u001b[0;36m<cell line: 13>\u001b[0;34m()\u001b[0m\n\u001b[1;32m     10\u001b[0m s \u001b[38;5;241m=\u001b[39m {\u001b[38;5;241m10\u001b[39m, \u001b[38;5;241m20\u001b[39m, \u001b[38;5;241m30\u001b[39m, \u001b[38;5;241m40\u001b[39m, \u001b[38;5;241m5\u001b[39m, \u001b[38;5;241m60\u001b[39m}\n\u001b[1;32m     11\u001b[0m \u001b[38;5;28mprint\u001b[39m(s)\n\u001b[0;32m---> 13\u001b[0m s[\u001b[38;5;241m4\u001b[39m] \u001b[38;5;241m=\u001b[39m \u001b[38;5;241m50\u001b[39m\n",
      "\u001b[0;31mTypeError\u001b[0m: 'set' object does not support item assignment"
     ]
    }
   ],
   "source": [
    "# A list of values - modify the value at index 4 to 50\n",
    "l = [10, 20, 30, 40, 5, 60]\n",
    "print(l)\n",
    "\n",
    "l[4] = 50 # No error - lists are mutable\n",
    "print(l)\n",
    "print()\n",
    "\n",
    "# A set of values - modify the value at index 4 to 50\n",
    "s = {10, 20, 30, 40, 5, 60}\n",
    "print(s)\n",
    "\n",
    "s[4] = 50 # Error - sets are mutable but indexing is not possible"
   ]
  },
  {
   "cell_type": "markdown",
   "id": "1a7beecb",
   "metadata": {},
   "source": [
    "### Set Methods\n",
    "\n",
    "While sets are unordered and do not allow duplicates, they are still mutable and therefore support a large number of methods on the set class. Here is a quick overview of some of the most popular ones.  \n",
    "\n",
    "#### Add\n",
    "\n",
    "The **add(V)** method adds the value **V** to the set. Since the order is not guaranteed, where the value **V** will be inserted cannot be determined. If the item **V** is already present in the set, the method will have no effect. The syntax is `set.add(200)` which will add the value **200** to the set. This is an in-place method.\n",
    "\n",
    "#### Remove\n",
    "\n",
    "The **remove(V)** method removes the item **V** from the set. The return value of this method is **None**. If the value **V** is not present in the set, it leads to an error. The syntax is `set.remove(100)` it removes the item 100 from the set if exists otherwise leads to an error.\n",
    "\n",
    "#### Pop\n",
    "\n",
    "The **pop( )** method is used to remove the first item of the set. While the index 0 position in a set does not exist, visually speaking, whatever is stored in the beginning of the set is printed.\n",
    "\n",
    "Syntax is `a = set.pop()`  \n",
    "\n",
    "This method returns the popped value as an integer. This is also an in-place method.  \n",
    "\n",
    "---------------------------------\n",
    "\n",
    "For the rest of these methods, sets operate like mathematical sets. We will use the below sets as examples  \n",
    "\n",
    "```python\n",
    "A = {1, 2, 3, 4, 5}\n",
    "B = {4, 5, 6, 7, 8, 9, 10}\n",
    "```\n",
    "\n",
    "For every method below, the above two states of the variables **A** and **B** will be considered and all previous operations as a result of other examples shall be ignored.  \n",
    "\n",
    "\n",
    "#### Difference\n",
    "\n",
    "The **difference( )** method calculates the mathematical difference between two sets. It is equivalent to the mathematical operation $A - B$ (depending on the order) where A and B are two sets. This is not an in-place method. Consider the example  \n",
    "\n",
    "```python\n",
    "print(A.difference(B)) # Result is {1, 2, 3} because 4, 5 are common to both sets\n",
    "print(B.difference(A)) # Result is {6, 7, 8, 9, 10} because 4, 5 are common to both sets\n",
    "```\n",
    "\n",
    "#### Discard\n",
    "\n",
    "The **discard(V)** method removes the item **V** from the set if it exists. This is an in-place method. Consider the example  \n",
    "\n",
    "```python\n",
    "B.discard(10) # Result is {4, 5, 6, 7, 8, 9}\n",
    "A.discard(10) # Leads to error\n",
    "```\n",
    "\n",
    "#### DifferenceUpdate\n",
    "\n",
    "The **difference_update( )** method calculates the mathematical difference between two sets but also modifies the set in-place. The syntax is `A.difference_update(B)` and removes all the items from **A** which are common to **B**. Consider the example  \n",
    "\n",
    "```python\n",
    "A.difference_update(B) # The contents of set A is now {1, 2, 3} as 4, 5 common with set B\n",
    "B.difference_update(A) # The contents of set B is {4, 5, 6, 7, 8, 9, 10} because no common items with set A\n",
    "```  \n",
    "\n",
    "Remember, this is an in-place method and therefore, when set **A** got updated in the first line (above example), the common items got removed and hence when this was used in second line, there was no common items left with set **B**  \n",
    "\n",
    "#### Intersection\n",
    "\n",
    "The **intersection( )** method calculates the common items between the two sets. The syntax is `A.intersection(B)` and it returns a set of items that are common to the sets **A** and **B**. For this method, `A.intersection(B)` is the same as `B.intersection(A)`. This is not an in-place method. Mathematically, this operation is equivalent to the set operation $A \\bigcap\\ B$  \n",
    "\n",
    "Consider the example  \n",
    "\n",
    "```python\n",
    "print(A.intersection(B)) # Result is {4,5}\n",
    "```\n",
    "\n",
    "#### IsDisjoint\n",
    "\n",
    "The **isdisjoint( )** method is used to check for intersection between two sets. The syntax is `A.isdisjoint(B)` and returns **False** if there are common items between the sets **A** and **B**. If there are no common items between the two sets, they are said to be disjoint and the value returned is **True**. This is not an in-place method and `A.isdisjoint(B)` is the same as `B.isdisjoint(A)`\n",
    "\n",
    "#### IsSubset\n",
    "\n",
    "The **issubset** method is used to check if a set is contained inside another set. The syntax is `A.issubset(B)` and it returns **True** if the items of set **A** are contained inside set **B**  \n",
    "Similarly, `B.issubset(A)` returns **True** if the items of set **B** are contained inside the set **A**  \n",
    "\n",
    "Mathematically this performs the set operation $A \\subset\\ B$ for `A.issubset(B)`  \n",
    "\n",
    "Consider the example  \n",
    "\n",
    "```python\n",
    "T = {4, 5}\n",
    "print(T.issubset(B)) # Result is True\n",
    "```\n",
    "\n",
    "#### IsSuperset\n",
    "\n",
    "The **issuperset( )** method is used to check if a set is contains another set inside it. This is the opposite of the **issubset( )** method. The syntax is `A.issuperset(B)` and returns **True** if all the items of set **B** are contained inside set **A**  \n",
    "Similarly, `B.issuperset(A)` returns **True** if all the items of set **A** are contained inside the set **B**  \n",
    "\n",
    "Mathematically this performs the set operation $B \\subset\\ A$ for `A.issuperset(B)`  \n",
    "\n",
    "Consider the example  \n",
    "\n",
    "```python\n",
    "T = {4, 5}\n",
    "print(B.issuperset(T)) # Result is True\n",
    "```\n",
    "\n",
    "#### Union\n",
    "\n",
    "The **union( )** method is used to create a new set from the sets **A** and **B** which combines all the unique items of these two sets. Common items in the sets are included only once. The syntax is `A.union(B)`. It is not an in-place method and returns a new set with all the unique items. Therefore, `B.union(A)` is the same as `A.union(B)`  \n",
    "\n",
    "Mathematically, this operation is equivalent to the set operation $A \\bigcup\\ B$  \n",
    "Consider the example below\n",
    "\n",
    "```python\n",
    "S = A.union(B)\n",
    "print(S) # Result is {1, 2, 3, 4, 5, 6, 7, 8, 9, 10}\n",
    "```"
   ]
  },
  {
   "cell_type": "code",
   "execution_count": 91,
   "id": "bcaba6c5",
   "metadata": {},
   "outputs": [
    {
     "name": "stdout",
     "output_type": "stream",
     "text": [
      "{5, 40, 10, 20, 60, 30}\n",
      "{5, 40, 200, 10, 40.01, -20, 20, 60, 30}\n"
     ]
    }
   ],
   "source": [
    "s = {10, 20, 30, 40, 5, 60}\n",
    "print(s)\n",
    "\n",
    "# Add some items to the set\n",
    "s.add(20)\n",
    "s.add(200)\n",
    "s.add(-20)\n",
    "s.add(40)\n",
    "s.add(40.0)\n",
    "s.add(40.01)\n",
    "\n",
    "print(s)"
   ]
  },
  {
   "cell_type": "code",
   "execution_count": 92,
   "id": "d8f7c177",
   "metadata": {},
   "outputs": [
    {
     "name": "stdout",
     "output_type": "stream",
     "text": [
      "{5, 10, 40.01, -20, 20, 60}\n"
     ]
    }
   ],
   "source": [
    "# Remove some items from the set\n",
    "s.remove(200)\n",
    "s.remove(40)\n",
    "s.remove(30)\n",
    "\n",
    "print(s)"
   ]
  },
  {
   "cell_type": "code",
   "execution_count": 93,
   "id": "5c89bdb9",
   "metadata": {},
   "outputs": [
    {
     "name": "stdout",
     "output_type": "stream",
     "text": [
      "initial\n",
      "{5, 10, 40.01, -20, 20, 60}\n",
      "\n",
      "popped 5 current\n",
      "{10, 40.01, -20, 20, 60}\n",
      "\n",
      "popped 10 current\n",
      "{40.01, -20, 20, 60}\n",
      "\n",
      "popped 40.01 current\n",
      "{-20, 20, 60}\n",
      "\n"
     ]
    }
   ],
   "source": [
    "print(f\"initial\\n{s}\\n\")\n",
    "\n",
    "# Pop operation on the set\n",
    "v = s.pop()\n",
    "print(f\"popped {v} current\\n{s}\\n\")\n",
    "\n",
    "# Pop operation on the set\n",
    "v = s.pop()\n",
    "print(f\"popped {v} current\\n{s}\\n\")\n",
    "\n",
    "# Pop operation on the set\n",
    "v = s.pop()\n",
    "print(f\"popped {v} current\\n{s}\\n\")"
   ]
  },
  {
   "cell_type": "code",
   "execution_count": 95,
   "id": "9c750a69",
   "metadata": {},
   "outputs": [
    {
     "name": "stdout",
     "output_type": "stream",
     "text": [
      "{1, 2, 3}\n",
      "{6, 7, 8, 9, 10}\n",
      "\n",
      "{1, 2, 3, 4, 5}\n",
      "{4, 5, 6, 7, 8, 9, 10}\n"
     ]
    }
   ],
   "source": [
    "A = {1, 2, 3, 4, 5}\n",
    "B = {4, 5, 6, 7, 8, 9, 10}\n",
    "\n",
    "print(A.difference(B))\n",
    "print(B.difference(A))\n",
    "print()\n",
    "\n",
    "# Original sets remain unchanged\n",
    "print(A)\n",
    "print(B)"
   ]
  },
  {
   "cell_type": "code",
   "execution_count": 96,
   "id": "b17c3904",
   "metadata": {},
   "outputs": [
    {
     "name": "stdout",
     "output_type": "stream",
     "text": [
      "{4, 5, 6, 7, 8, 9}\n",
      "{1, 2, 3, 4}\n"
     ]
    }
   ],
   "source": [
    "A = {1, 2, 3, 4, 5}\n",
    "B = {4, 5, 6, 7, 8, 9, 10}\n",
    "\n",
    "B.discard(10) \n",
    "print(B) # Set B is modified\n",
    "\n",
    "A.discard(5)\n",
    "print(A) # Set A is modified"
   ]
  },
  {
   "cell_type": "code",
   "execution_count": 106,
   "id": "be4e5339",
   "metadata": {},
   "outputs": [
    {
     "name": "stdout",
     "output_type": "stream",
     "text": [
      "{1, 2, 3}\n",
      "{4, 5, 6, 7, 8, 9, 10}\n"
     ]
    }
   ],
   "source": [
    "A = {1, 2, 3, 4, 5}\n",
    "B = {4, 5, 6, 7, 8, 9, 10}\n",
    "\n",
    "A.difference_update(B)\n",
    "B.difference_update(A)\n",
    "\n",
    "print(A)\n",
    "print(B)"
   ]
  },
  {
   "cell_type": "code",
   "execution_count": 100,
   "id": "f3f1df59",
   "metadata": {},
   "outputs": [
    {
     "name": "stdout",
     "output_type": "stream",
     "text": [
      "{4, 5}\n",
      "{4, 5}\n"
     ]
    }
   ],
   "source": [
    "A = {1, 2, 3, 4, 5}\n",
    "B = {4, 5, 6, 7, 8, 9, 10}\n",
    "\n",
    "print(A.intersection(B))\n",
    "print(B.intersection(A))"
   ]
  },
  {
   "cell_type": "code",
   "execution_count": 104,
   "id": "9fc7fae0",
   "metadata": {},
   "outputs": [
    {
     "name": "stdout",
     "output_type": "stream",
     "text": [
      "False\n",
      "True\n"
     ]
    }
   ],
   "source": [
    "A = {1, 2, 3, 4, 5}\n",
    "B = {4, 5, 6, 7, 8, 9, 10}\n",
    "C = {100, 200, 300}\n",
    "\n",
    "print(A.isdisjoint(B))\n",
    "print(B.isdisjoint(C))"
   ]
  },
  {
   "cell_type": "code",
   "execution_count": 108,
   "id": "c252a2ef",
   "metadata": {},
   "outputs": [
    {
     "name": "stdout",
     "output_type": "stream",
     "text": [
      "True\n",
      "True\n"
     ]
    }
   ],
   "source": [
    "T = {4, 5}\n",
    "B = {4, 5, 6, 7, 8, 9, 10}\n",
    "\n",
    "print(T.issubset(B))\n",
    "print(B.issuperset(T))"
   ]
  },
  {
   "cell_type": "code",
   "execution_count": 109,
   "id": "effb66fe",
   "metadata": {},
   "outputs": [
    {
     "name": "stdout",
     "output_type": "stream",
     "text": [
      "{1, 2, 3, 4, 5, 6, 7, 8, 9, 10}\n",
      "{1, 2, 3, 4, 5, 6, 7, 8, 9, 10, 200, 100, 300}\n",
      "\n",
      "{1, 2, 3, 4, 5}\n",
      "{4, 5, 6, 7, 8, 9, 10}\n",
      "{200, 100, 300}\n"
     ]
    }
   ],
   "source": [
    "A = {1, 2, 3, 4, 5}\n",
    "B = {4, 5, 6, 7, 8, 9, 10}\n",
    "C = {100, 200, 300}\n",
    "\n",
    "M = A.union(B)\n",
    "N = M.union(C)\n",
    "\n",
    "print(M)\n",
    "print(N)\n",
    "print()\n",
    "\n",
    "print(A)\n",
    "print(B)\n",
    "print(C)"
   ]
  },
  {
   "cell_type": "markdown",
   "id": "41bb5125",
   "metadata": {},
   "source": [
    "### Important Links\n",
    "\n",
    "- [Python Sets - Introduction](https://www.programiz.com/python-programming/set)\n",
    "- [Python Sets - Complete Guide](https://realpython.com/python-sets/)"
   ]
  },
  {
   "cell_type": "markdown",
   "id": "444b7f9f",
   "metadata": {},
   "source": [
    "## [5] Shallow And Deep Copy\n",
    "\n",
    "Consider a variable **var_1** in memory at a location `0x76000`  \n",
    "\n",
    "Now, when the user creates a copy of the variable **var_1** it can be done in two ways:  \n",
    "\n",
    "- Variable **var_1** and all copied objects point to the same memory location\n",
    "- Varible **var_1** and all copied objects refer to different locations in memory (with same data initially)\n",
    "\n",
    "Refer the diagram:  \n",
    "\n",
    "**Initial State** \n",
    "\n",
    "                 ______________\n",
    "                |    \"hello\"   |  ====> var_1\n",
    "                |______________|\n",
    "                0x76000  \n",
    "                \n",
    "**Copied Objects Refer To The Same Memory Location**\n",
    "\n",
    "                 ______________\n",
    "                |   \"hello\"    |  ====> var_1\n",
    "                |______________|  ====> var_2 (copy of var_1)\n",
    "                0x76000           \n",
    "                                  \n",
    "                               \n",
    "**Copied Objects Refer To The Different Memory Locations** \n",
    "\n",
    "     ______________                   ______________\n",
    "    |    \"hello\"   |  ====> var_1    |   \"hello\"    |  ====> var_2 (copy of var_1)\n",
    "    |______________|                 |______________| \n",
    "    0x76000                          0x871246\n"
   ]
  },
  {
   "cell_type": "markdown",
   "id": "e990ffee",
   "metadata": {},
   "source": [
    "### Shallow Copy\n",
    "\n",
    "**Shallow Copy** means two or more objects are referring to the same address in memory and therfore, changes in one of the object automatically reflects in other objects. Changes in the original object reflect in the copied objects and changes in the copied objects also refer in the original objects.  \n",
    "\n",
    "\n",
    "                 ______________\n",
    "                |   \"hello\"    |  ====> var_1\n",
    "                |______________|  ====> var_2 (copy of var_1)\n",
    "                0x76000           \n",
    "                                  "
   ]
  },
  {
   "cell_type": "code",
   "execution_count": 115,
   "id": "e0b38b4b",
   "metadata": {},
   "outputs": [
    {
     "name": "stdout",
     "output_type": "stream",
     "text": [
      "4388202432\n",
      "4388202432\n",
      "4388202432\n",
      "4388202432\n"
     ]
    }
   ],
   "source": [
    "# Consider the list\n",
    "list_1 = [10, 20, 30, 40, 50, 60]\n",
    "\n",
    "# Make three copies of the list\n",
    "list_copy_1 = list_1\n",
    "list_copy_2 = list_1\n",
    "list_copy_3 = list_1\n",
    "\n",
    "# Check the memory address of the lists\n",
    "print(id(list_1))\n",
    "print(id(list_copy_1))\n",
    "print(id(list_copy_2))\n",
    "print(id(list_copy_3))"
   ]
  },
  {
   "cell_type": "code",
   "execution_count": 116,
   "id": "e406e7fa",
   "metadata": {},
   "outputs": [
    {
     "name": "stdout",
     "output_type": "stream",
     "text": [
      "[10, 20, 30, -199, 40, 60, 500]\n",
      "[10, 20, 30, -199, 40, 60, 500]\n",
      "[10, 20, 30, -199, 40, 60, 500]\n",
      "[10, 20, 30, -199, 40, 60, 500]\n"
     ]
    }
   ],
   "source": [
    "# Perform some operations on list_1\n",
    "list_1.append(500)\n",
    "list_1.insert(3, -199)\n",
    "list_1.remove(50)\n",
    "\n",
    "print(list_1)\n",
    "print(list_copy_1)\n",
    "print(list_copy_2)\n",
    "print(list_copy_3)"
   ]
  },
  {
   "cell_type": "code",
   "execution_count": 117,
   "id": "46560775",
   "metadata": {},
   "outputs": [
    {
     "name": "stdout",
     "output_type": "stream",
     "text": [
      "4388202432\n",
      "4388202432\n",
      "4388202432\n",
      "4388202432\n"
     ]
    }
   ],
   "source": [
    "# Check the memory address of the lists\n",
    "print(id(list_1))\n",
    "print(id(list_copy_1))\n",
    "print(id(list_copy_2))\n",
    "print(id(list_copy_3))"
   ]
  },
  {
   "cell_type": "code",
   "execution_count": 118,
   "id": "030050c2",
   "metadata": {},
   "outputs": [
    {
     "name": "stdout",
     "output_type": "stream",
     "text": [
      "[10, 20, 30, -199, 40, 60, 500, ['hello', 'world']]\n",
      "[10, 20, 30, -199, 40, 60, 500, ['hello', 'world']]\n",
      "[10, 20, 30, -199, 40, 60, 500, ['hello', 'world']]\n",
      "[10, 20, 30, -199, 40, 60, 500, ['hello', 'world']]\n"
     ]
    }
   ],
   "source": [
    "# Perform some operations on list_copy_1\n",
    "list_copy_1.append(99)\n",
    "list_copy_1.pop()\n",
    "\n",
    "# Perform some operations on list_copy_3\n",
    "list_copy_3.append([\"hello\", \"world\"])\n",
    "\n",
    "print(list_1)\n",
    "print(list_copy_1)\n",
    "print(list_copy_2)\n",
    "print(list_copy_3)"
   ]
  },
  {
   "cell_type": "markdown",
   "id": "e4b59fb4",
   "metadata": {},
   "source": [
    "### Deep Copy\n",
    "\n",
    "**Deep Copy** refers to objects that got copied but are stored in new memory location and do not point to the same address. Therefore, changes in any of the objects, do not reflect in the other objects. Each copied object starts out with it's fresh copy of the original data but in a new memory location.  \n",
    "\n",
    "     ______________                   ______________\n",
    "    |    \"hello\"   |  ====> var_1    |   \"hello\"    |  ====> var_2 (copy of var_1)\n",
    "    |______________|                 |______________| \n",
    "    0x76000                          0x871246\n"
   ]
  },
  {
   "cell_type": "code",
   "execution_count": 125,
   "id": "070af86c",
   "metadata": {},
   "outputs": [
    {
     "name": "stdout",
     "output_type": "stream",
     "text": [
      "4388441344\n",
      "4388200512\n",
      "4364506304\n"
     ]
    }
   ],
   "source": [
    "# Consider the list\n",
    "list_1 = [10, 20, 30, 40, 50, 60]\n",
    "\n",
    "# To make a deep copy we can use the [:] notation\n",
    "# We can also make a deep copy of an object using the copy() keyword\n",
    "list_copy_1 = list_1.copy()\n",
    "list_copy_2 = list_1[:]\n",
    "\n",
    "# Check the memory address of the lists\n",
    "print(id(list_1))\n",
    "print(id(list_copy_1))\n",
    "print(id(list_copy_2))"
   ]
  },
  {
   "cell_type": "code",
   "execution_count": 126,
   "id": "7dcca97d",
   "metadata": {},
   "outputs": [
    {
     "name": "stdout",
     "output_type": "stream",
     "text": [
      "[10, 20, 30, -199, 40, 60, 500]\n",
      "[10, 20, 30, 40, 50, 60]\n",
      "[10, 20, 30, 40, 50, 60]\n"
     ]
    }
   ],
   "source": [
    "# Perform some operations on list_1\n",
    "list_1.append(500)\n",
    "list_1.insert(3, -199)\n",
    "list_1.remove(50)\n",
    "\n",
    "print(list_1)\n",
    "print(list_copy_1)\n",
    "print(list_copy_2)"
   ]
  },
  {
   "cell_type": "code",
   "execution_count": 127,
   "id": "3f0abfd0",
   "metadata": {},
   "outputs": [
    {
     "name": "stdout",
     "output_type": "stream",
     "text": [
      "4388441344\n",
      "4388200512\n",
      "4364506304\n"
     ]
    }
   ],
   "source": [
    "# Check the memory address of the lists\n",
    "print(id(list_1))\n",
    "print(id(list_copy_1))\n",
    "print(id(list_copy_2))"
   ]
  },
  {
   "cell_type": "code",
   "execution_count": 128,
   "id": "a4d9fe35",
   "metadata": {},
   "outputs": [
    {
     "name": "stdout",
     "output_type": "stream",
     "text": [
      "[10, 20, 30, -199, 40, 60, 500]\n",
      "[10, 20, 30, 40, 50, 60, 99, 0.005]\n",
      "[10, 20, 30, 40, 50, 60, ['hello', 'world']]\n"
     ]
    }
   ],
   "source": [
    "# Perform some operations on list_copy_1\n",
    "list_copy_1.append(99)\n",
    "list_copy_1.append(0.005)\n",
    "list_copy_1.append(\"hello\")\n",
    "list_copy_1.pop()\n",
    "\n",
    "# Perform some operations on list_copy_2\n",
    "list_copy_2.append([\"hello\", \"world\"])\n",
    "\n",
    "print(list_1)\n",
    "print(list_copy_1)\n",
    "print(list_copy_2)"
   ]
  },
  {
   "cell_type": "markdown",
   "id": "218e1bb6",
   "metadata": {},
   "source": [
    "**Note**  \n",
    "It is important to remember that directly using the assignment operator **=** to copy objects may have unintended consequences! It is always safer to use deep copy than shallow copy especially when working with data structures or collections. "
   ]
  },
  {
   "cell_type": "markdown",
   "id": "b7252fe9",
   "metadata": {},
   "source": [
    "### Important Links\n",
    "\n",
    "- [Shallow And Deep Copy - Introduction](https://www.programiz.com/python-programming/shallow-deep-copy)\n",
    "- [Shallow And Deep Copy - Python Documentation](https://docs.python.org/3/library/copy.html)"
   ]
  }
 ],
 "metadata": {
  "kernelspec": {
   "display_name": "Python 3 (ipykernel)",
   "language": "python",
   "name": "python3"
  },
  "language_info": {
   "codemirror_mode": {
    "name": "ipython",
    "version": 3
   },
   "file_extension": ".py",
   "mimetype": "text/x-python",
   "name": "python",
   "nbconvert_exporter": "python",
   "pygments_lexer": "ipython3",
   "version": "3.8.13"
  }
 },
 "nbformat": 4,
 "nbformat_minor": 5
}
